{
 "cells": [
  {
   "cell_type": "code",
   "execution_count": 1,
   "metadata": {},
   "outputs": [],
   "source": [
    "import pandas as pd\n",
    "import numpy as np\n",
    "\n",
    "ohlc_path = \"/home/mimus/qlearning/data/sources/candles/binance/BINANCE_BTCUSDT.historic_prices_5m.json\"\n",
    "ew_path = \"/home/mimus/qlearning/data/sources/ew/binance/BINANCE_BTCUSDT.strategies_5_t5001.json\"\n",
    "\n",
    "ohlc_df = pd.read_json(ohlc_path)\n",
    "ohlc_df=ohlc_df[[\"ts\",\"o\",\"h\",\"l\", \"c\"]].iloc[0:-286]#hay que cambiar esto para que se usen los ts en lugar de estas cosas raras\n",
    "ohlc_df=ohlc_df.reset_index(drop=True)\n",
    "ew_df = pd.read_json(ew_path)\n",
    "ew_df=ew_df.sort_values(by=['ts']).iloc[1:].reset_index(drop=True)"
   ]
  },
  {
   "cell_type": "code",
   "execution_count": 2,
   "metadata": {},
   "outputs": [],
   "source": [
    "merged_df= pd.merge(ohlc_df, ew_df, on='ts', how='left')\n",
    "merged_df.fillna(0, inplace=True)\n",
    "merged_df.to_csv(\"data/training/5m_train_qlearning.csv\")\n"
   ]
  },
  {
   "cell_type": "code",
   "execution_count": 2,
   "metadata": {},
   "outputs": [
    {
     "data": {
      "text/html": [
       "<div>\n",
       "<style scoped>\n",
       "    .dataframe tbody tr th:only-of-type {\n",
       "        vertical-align: middle;\n",
       "    }\n",
       "\n",
       "    .dataframe tbody tr th {\n",
       "        vertical-align: top;\n",
       "    }\n",
       "\n",
       "    .dataframe thead th {\n",
       "        text-align: right;\n",
       "    }\n",
       "</style>\n",
       "<table border=\"1\" class=\"dataframe\">\n",
       "  <thead>\n",
       "    <tr style=\"text-align: right;\">\n",
       "      <th></th>\n",
       "      <th>ts</th>\n",
       "      <th>o</th>\n",
       "      <th>h</th>\n",
       "      <th>l</th>\n",
       "      <th>c</th>\n",
       "    </tr>\n",
       "  </thead>\n",
       "  <tbody>\n",
       "    <tr>\n",
       "      <th>0</th>\n",
       "      <td>1567970100</td>\n",
       "      <td>10345.41</td>\n",
       "      <td>10352.97</td>\n",
       "      <td>10345.41</td>\n",
       "      <td>10349.19</td>\n",
       "    </tr>\n",
       "    <tr>\n",
       "      <th>1</th>\n",
       "      <td>1567970400</td>\n",
       "      <td>10349.19</td>\n",
       "      <td>10357.53</td>\n",
       "      <td>10345.45</td>\n",
       "      <td>10346.19</td>\n",
       "    </tr>\n",
       "    <tr>\n",
       "      <th>2</th>\n",
       "      <td>1567970700</td>\n",
       "      <td>10346.19</td>\n",
       "      <td>10354.62</td>\n",
       "      <td>10342.90</td>\n",
       "      <td>10354.62</td>\n",
       "    </tr>\n",
       "    <tr>\n",
       "      <th>3</th>\n",
       "      <td>1567971000</td>\n",
       "      <td>10354.62</td>\n",
       "      <td>10357.35</td>\n",
       "      <td>10344.33</td>\n",
       "      <td>10346.00</td>\n",
       "    </tr>\n",
       "    <tr>\n",
       "      <th>4</th>\n",
       "      <td>1567971300</td>\n",
       "      <td>10346.00</td>\n",
       "      <td>10347.09</td>\n",
       "      <td>10340.34</td>\n",
       "      <td>10341.14</td>\n",
       "    </tr>\n",
       "    <tr>\n",
       "      <th>...</th>\n",
       "      <td>...</td>\n",
       "      <td>...</td>\n",
       "      <td>...</td>\n",
       "      <td>...</td>\n",
       "      <td>...</td>\n",
       "    </tr>\n",
       "    <tr>\n",
       "      <th>426869</th>\n",
       "      <td>1696030800</td>\n",
       "      <td>26898.60</td>\n",
       "      <td>26898.70</td>\n",
       "      <td>26896.20</td>\n",
       "      <td>26896.20</td>\n",
       "    </tr>\n",
       "    <tr>\n",
       "      <th>426870</th>\n",
       "      <td>1696031100</td>\n",
       "      <td>26896.20</td>\n",
       "      <td>26906.00</td>\n",
       "      <td>26892.60</td>\n",
       "      <td>26905.90</td>\n",
       "    </tr>\n",
       "    <tr>\n",
       "      <th>426871</th>\n",
       "      <td>1696031400</td>\n",
       "      <td>26905.90</td>\n",
       "      <td>26908.20</td>\n",
       "      <td>26892.40</td>\n",
       "      <td>26892.50</td>\n",
       "    </tr>\n",
       "    <tr>\n",
       "      <th>426872</th>\n",
       "      <td>1696031700</td>\n",
       "      <td>26892.50</td>\n",
       "      <td>26897.60</td>\n",
       "      <td>26890.90</td>\n",
       "      <td>26890.90</td>\n",
       "    </tr>\n",
       "    <tr>\n",
       "      <th>426873</th>\n",
       "      <td>1696032000</td>\n",
       "      <td>26890.90</td>\n",
       "      <td>26894.40</td>\n",
       "      <td>26879.80</td>\n",
       "      <td>26879.90</td>\n",
       "    </tr>\n",
       "  </tbody>\n",
       "</table>\n",
       "<p>426874 rows × 5 columns</p>\n",
       "</div>"
      ],
      "text/plain": [
       "                ts         o         h         l         c\n",
       "0       1567970100  10345.41  10352.97  10345.41  10349.19\n",
       "1       1567970400  10349.19  10357.53  10345.45  10346.19\n",
       "2       1567970700  10346.19  10354.62  10342.90  10354.62\n",
       "3       1567971000  10354.62  10357.35  10344.33  10346.00\n",
       "4       1567971300  10346.00  10347.09  10340.34  10341.14\n",
       "...            ...       ...       ...       ...       ...\n",
       "426869  1696030800  26898.60  26898.70  26896.20  26896.20\n",
       "426870  1696031100  26896.20  26906.00  26892.60  26905.90\n",
       "426871  1696031400  26905.90  26908.20  26892.40  26892.50\n",
       "426872  1696031700  26892.50  26897.60  26890.90  26890.90\n",
       "426873  1696032000  26890.90  26894.40  26879.80  26879.90\n",
       "\n",
       "[426874 rows x 5 columns]"
      ]
     },
     "execution_count": 2,
     "metadata": {},
     "output_type": "execute_result"
    }
   ],
   "source": [
    "ohlc_df\n"
   ]
  },
  {
   "cell_type": "code",
   "execution_count": 1,
   "metadata": {},
   "outputs": [],
   "source": [
    "import pandas as pd\n",
    "import numpy as np\n",
    "\n",
    "ohlc_path = \"/home/mimus/qlearning/data/sources/candles/binance/BINANCE_BTCUSDT.historic_prices_5m.json\"\n",
    "\n",
    "df = pd.read_json(ohlc_path)\n",
    "df=df[[\"ts\",\"o\",\"h\",\"l\", \"c\"]].iloc[0:-286]#hay que cambiar esto para que se usen los ts en lugar de estas cosas raras"
   ]
  },
  {
   "cell_type": "code",
   "execution_count": 3,
   "metadata": {},
   "outputs": [
    {
     "name": "stdout",
     "output_type": "stream",
     "text": [
      "            ts         o         h         l         c  log_ret_oc  \\\n",
      "20  1567976100  10339.18  10352.63  10334.54  10351.42   -0.513666   \n",
      "21  1567976400  10351.42  10353.97  10343.74  10343.74    0.323813   \n",
      "22  1567976700  10343.74  10345.91  10325.62  10331.00    0.537046   \n",
      "23  1567977000  10331.00  10334.76  10328.19  10329.80    0.051501   \n",
      "24  1567977300  10329.80  10330.70  10324.77  10330.70   -0.036923   \n",
      "\n",
      "    log_ret_lh  bb_upper  bb_middle  bb_lower       rsi      macd  \\\n",
      "20    0.299750 -1.046851  -1.045155 -1.043306 -0.494600  0.001152   \n",
      "21    0.552872 -1.046850  -1.045163 -1.043322 -0.921543 -0.005469   \n",
      "22    0.228454 -1.046818  -1.045238 -1.043505 -1.502933 -0.023783   \n",
      "23    0.670244 -1.046755  -1.045289 -1.043673 -1.552158 -0.039138   \n",
      "24    0.690796 -1.046710  -1.045322 -1.043785 -1.476305 -0.049834   \n",
      "\n",
      "    macd_signal  macd_hist  \n",
      "20     0.006125  -0.015247  \n",
      "21     0.003738  -0.029708  \n",
      "22    -0.002064  -0.072199  \n",
      "23    -0.009969  -0.098370  \n",
      "24    -0.018566  -0.106983  \n"
     ]
    }
   ],
   "source": [
    "import pandas as pd\n",
    "import numpy as np\n",
    "\n",
    "# Suponiendo que tu DataFrame se llama df y tiene las columnas 'ts', 'o', 'h', 'l', 'c'\n",
    "\n",
    "# Función para calcular los retornos logarítmicos\n",
    "def log_return(series1, series2):\n",
    "    return np.log(series1 / series2)\n",
    "\n",
    "# Calcular retornos logarítmicos para open/close y low/high\n",
    "df['log_ret_oc'] = log_return(df['o'], df['c'])\n",
    "df['log_ret_lh'] = log_return(df['l'], df['h'])\n",
    "\n",
    "# Calcular las Bandas de Bollinger\n",
    "def bollinger_bands(series, window=20, num_of_std=2):\n",
    "    rolling_mean = series.rolling(window=window).mean()\n",
    "    rolling_std = series.rolling(window=window).std()\n",
    "    upper_band = rolling_mean + (rolling_std * num_of_std)\n",
    "    lower_band = rolling_mean - (rolling_std * num_of_std)\n",
    "    return upper_band, rolling_mean, lower_band\n",
    "\n",
    "df['bb_upper'], df['bb_middle'], df['bb_lower'] = bollinger_bands(df['c'])\n",
    "\n",
    "# Calcular RSI\n",
    "def rsi(series, period=14):\n",
    "    delta = series.diff()\n",
    "    up = delta.clip(lower=0)\n",
    "    down = -1 * delta.clip(upper=0)\n",
    "\n",
    "    ema_up = up.ewm(com=period - 1, adjust=False).mean()\n",
    "    ema_down = down.ewm(com=period - 1, adjust=False).mean()\n",
    "\n",
    "    rs = ema_up / ema_down\n",
    "    return 100 - (100 / (1 + rs))\n",
    "\n",
    "df['rsi'] = rsi(df['c'])\n",
    "\n",
    "# Calcular MACD\n",
    "def macd(series, fast_period=12, slow_period=26, signal_period=9):\n",
    "    ema_fast = series.ewm(span=fast_period, adjust=False).mean()\n",
    "    ema_slow = series.ewm(span=slow_period, adjust=False).mean()\n",
    "    macd_line = ema_fast - ema_slow\n",
    "    signal_line = macd_line.ewm(span=signal_period, adjust=False).mean()\n",
    "    macd_hist = macd_line - signal_line\n",
    "    return macd_line, signal_line, macd_hist\n",
    "\n",
    "df['macd'], df['macd_signal'], df['macd_hist'] = macd(df['c'])\n",
    "\n",
    "# Normalizar las nuevas características (excepto 'ts', 'o', 'h', 'l', 'c')\n",
    "features_to_normalize = ['log_ret_oc', 'log_ret_lh', 'bb_upper', 'bb_middle', 'bb_lower', 'rsi', 'macd', 'macd_signal', 'macd_hist']\n",
    "df[features_to_normalize] = (df[features_to_normalize] - df[features_to_normalize].mean()) / df[features_to_normalize].std()\n",
    "df=df.iloc[20:]\n",
    "# Mostrar las primeras filas del DataFrame modificado\n",
    "print(df.head())\n"
   ]
  },
  {
   "cell_type": "code",
   "execution_count": 4,
   "metadata": {},
   "outputs": [],
   "source": [
    "df.to_csv(\"data/training/5m_train_qlearning.csv\")"
   ]
  },
  {
   "cell_type": "code",
   "execution_count": 5,
   "metadata": {},
   "outputs": [
    {
     "data": {
      "text/plain": [
       "Index(['ts', 'o', 'h', 'l', 'c', 'log_ret_oc', 'log_ret_lh', 'bb_upper',\n",
       "       'bb_middle', 'bb_lower', 'rsi', 'macd', 'macd_signal', 'macd_hist'],\n",
       "      dtype='object')"
      ]
     },
     "execution_count": 5,
     "metadata": {},
     "output_type": "execute_result"
    }
   ],
   "source": [
    "df.columns"
   ]
  },
  {
   "cell_type": "code",
   "execution_count": 1,
   "metadata": {},
   "outputs": [
    {
     "data": {
      "text/plain": [
       "'tengo este log de uno de mis codigos\\n\\nstep 61 current close 10391.63\\naction 2\\nÚltimo debug - step después del entorno: 62 current close 10391.63\\nÚltimo debug - Plotting price at step: 62, Close: 10391.63\\nÚltimo debug - Updating plot for current dollars: 9929.155087900985 at step: 62\\nÚltimo debug - Plotting current dollars: 9929.155087900985 at step: 62\\nTraining Progress:  63%|█████████████████████████████████████████████████████████████████████████████████████████████▎                           '"
      ]
     },
     "execution_count": 1,
     "metadata": {},
     "output_type": "execute_result"
    }
   ],
   "source": [
    "# First, I will read the uploaded log file to understand its structure and content.\n",
    "with open('debug.txt', 'r') as file:\n",
    "    log_content = file.read()\n",
    "\n",
    "# Displaying the first 500 characters of the file for a quick review\n",
    "log_content[:500]"
   ]
  },
  {
   "cell_type": "code",
   "execution_count": 2,
   "metadata": {},
   "outputs": [],
   "source": [
    "import re \n",
    "\n",
    "def process_file(input_path, output_path):\n",
    "    with open(input_path, 'r') as file:\n",
    "        lines = file.readlines()\n",
    "\n",
    "    # Filtramos las líneas que no son necesarias (barras de progreso y nombres de columnas repetidos)\n",
    "    processed_lines = []\n",
    "    for line in lines:\n",
    "        # Buscamos las líneas que contienen datos numéricos y no empiezan con 'Training Progress'\n",
    "        if re.search(r'\\d', line) and not line.startswith('Training Progress'):\n",
    "            processed_lines.append(line.strip())  # Eliminamos espacios al final de cada línea\n",
    "\n",
    "    # Escribimos las líneas procesadas en un nuevo archivo\n",
    "    with open(output_path, 'w') as file:\n",
    "        # Añadimos los nombres de las columnas al inicio, incluyendo la nueva columna \"position type\"\n",
    "        file.write(\"step, current close, entry price, current dollars, action, position, position type, reward, total reward, profit, unrealized pnl\\n\")\n",
    "        for line in processed_lines:\n",
    "            # Separamos los valores por espacio y luego unimos con comas\n",
    "            data = line.split()\n",
    "            file.write(','.join(data) + '\\n')\n",
    "\n",
    "\n",
    "# Rutas de los archivos\n",
    "input_file_path = '/home/mimus/qlearning/processed_data.csv'  # Cambia esto a la ruta de tu archivo\n",
    "output_file_path = '/home/mimus/qlearning/processed_data_procesed.csv'  # Cambia esto a la ruta donde quieres guardar el archivo procesado\n",
    "\n",
    "# Llamamos a la función para procesar el archivo\n",
    "process_file(input_file_path, output_file_path)\n"
   ]
  },
  {
   "cell_type": "code",
   "execution_count": 3,
   "metadata": {},
   "outputs": [],
   "source": [
    "import re\n",
    "\n",
    "def process_file(input_path, output_path):\n",
    "    with open(input_path, 'r') as file:\n",
    "        lines = file.readlines()\n",
    "\n",
    "    processed_lines = []\n",
    "    for line in lines:\n",
    "        if re.search(r'\\d', line) and not line.startswith('Training Progress'):\n",
    "            processed_lines.append(line.strip())\n",
    "\n",
    "    with open(output_path, 'w') as file:\n",
    "        file.write(\"step, current close, entry price, current dollars, action, position, position type, reward, total reward, profit, unrealized pnl\\n\")\n",
    "        for line in processed_lines:\n",
    "            data = line.split()\n",
    "            # Formatear los campos numéricos específicos con decimales\n",
    "            formatted_data = [f\"{float(val):.2f}\" if i in {1, 2, 3, 7, 8, 9, 10} and val.replace('.','',1).isdigit() else val for i, val in enumerate(data)]\n",
    "            file.write(','.join(formatted_data) + '\\n')\n",
    "\n",
    "# Rutas de los archivos\n",
    "input_file_path = '/home/mimus/qlearning/processed_data.csv'\n",
    "output_file_path = '/home/mimus/qlearning/processed_data_procesed.csv'\n",
    "\n",
    "process_file(input_file_path, output_file_path)\n"
   ]
  },
  {
   "cell_type": "code",
   "execution_count": 4,
   "metadata": {},
   "outputs": [],
   "source": [
    "import re\n",
    "\n",
    "def process_file(input_path, output_path):\n",
    "    with open(input_path, 'r') as file:\n",
    "        lines = file.readlines()\n",
    "\n",
    "    processed_lines = []\n",
    "    for line in lines:\n",
    "        if re.search(r'\\d', line) and not line.startswith('Training Progress'):\n",
    "            processed_lines.append(line.strip())\n",
    "\n",
    "    with open(output_path, 'w') as file:\n",
    "        file.write(\"step, current close, entry price, current dollars, action, position, position type, reward, total reward, profit, unrealized pnl\\n\")\n",
    "        for line in processed_lines:\n",
    "            data = line.split()\n",
    "            # Formatear los campos numéricos específicos con decimales\n",
    "            formatted_data = [f\"{float(val):.2f}\" if i in {1, 2, 3, 7, 8, 9, 10} and val.replace('.','',1).isdigit() else val for i, val in enumerate(data)]\n",
    "            file.write(','.join(formatted_data) + '\\n')\n",
    "\n",
    "# Rutas de los archivos\n",
    "input_file_path = '/home/mimus/qlearning/processed_data.csv'\n",
    "output_file_path = '/home/mimus/qlearning/processed_data_procesed.csv'\n",
    "\n",
    "process_file(input_file_path, output_file_path)\n"
   ]
  },
  {
   "cell_type": "code",
   "execution_count": null,
   "metadata": {},
   "outputs": [],
   "source": []
  },
  {
   "cell_type": "code",
   "execution_count": null,
   "metadata": {},
   "outputs": [],
   "source": []
  },
  {
   "cell_type": "code",
   "execution_count": null,
   "metadata": {},
   "outputs": [],
   "source": []
  },
  {
   "cell_type": "code",
   "execution_count": null,
   "metadata": {},
   "outputs": [],
   "source": []
  },
  {
   "cell_type": "code",
   "execution_count": 7,
   "metadata": {},
   "outputs": [
    {
     "data": {
      "image/png": "[encoded data removed]",
      "text/plain": [
       "<Figure size 1000x600 with 1 Axes>"
      ]
     },
     "metadata": {},
     "output_type": "display_data"
    }
   ],
   "source": [
    "import matplotlib.pyplot as plt\n",
    "\n",
    "# Listas de valores\n",
    "lista_verde = [10500, 10952, 11192, 12009, 12526, 13540, 13852, 14087, 14228, 14442, 15352, 15612, 16050, 16660]\n",
    "lista_naranja = [10405, 10767, 10959, 11607, 12012, 12800, 13038, 13218, 13325, 13487, 14175, 14370, 13696, 15148]\n",
    "\n",
    "# Crear la gráfica\n",
    "plt.figure(figsize=(10,6))\n",
    "\n",
    "# Dibujar las líneas\n",
    "plt.plot(lista_verde, color='green', label='ROI sin TAXES')\n",
    "plt.plot(lista_naranja, color='orange', label='ROI con TAXES')\n",
    "\n",
    "# Añadir títulos y leyendas\n",
    "plt.title('Comparación de ROI con y sin TAXES')\n",
    "plt.xlabel('Año')\n",
    "plt.ylabel('Dolares')\n",
    "plt.legend()\n",
    "\n",
    "# Mostrar la gráfica\n",
    "plt.show()\n"
   ]
  },
  {
   "cell_type": "code",
   "execution_count": null,
   "metadata": {},
   "outputs": [],
   "source": []
  }
 ],
 "metadata": {
  "kernelspec": {
   "display_name": "paguer",
   "language": "python",
   "name": "python3"
  },
  "language_info": {
   "codemirror_mode": {
    "name": "ipython",
    "version": 3
   },
   "file_extension": ".py",
   "mimetype": "text/x-python",
   "name": "python",
   "nbconvert_exporter": "python",
   "pygments_lexer": "ipython3",
   "version": "3.10.12"
  },
  "orig_nbformat": 4
 },
 "nbformat": 4,
 "nbformat_minor": 2
}
