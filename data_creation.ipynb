{
 "cells": [
  {
   "cell_type": "code",
   "execution_count": 1,
   "metadata": {},
   "outputs": [],
   "source": [
    "import pandas as pd\n",
    "import numpy as np\n",
    "\n",
    "ohlc_path = \"/home/mimus/qlearning/data/sources/candles/binance/BINANCE_BTCUSDT.historic_prices_5m.json\"\n",
    "ew_path = \"/home/mimus/qlearning/data/sources/ew/binance/BINANCE_BTCUSDT.strategies_5_t5001.json\"\n",
    "\n",
    "ohlc_df = pd.read_json(ohlc_path)\n",
    "ohlc_df=ohlc_df[[\"ts\",\"o\",\"h\",\"l\", \"c\"]].iloc[0:-286]#hay que cambiar esto para que se usen los ts en lugar de estas cosas raras\n",
    "ohlc_df=ohlc_df.reset_index(drop=True)\n",
    "ew_df = pd.read_json(ew_path)\n",
    "ew_df=ew_df.sort_values(by=['ts']).iloc[1:].reset_index(drop=True)"
   ]
  },
  {
   "cell_type": "code",
   "execution_count": 2,
   "metadata": {},
   "outputs": [],
   "source": [
    "merged_df= pd.merge(ohlc_df, ew_df, on='ts', how='left')\n",
    "merged_df.fillna(0, inplace=True)\n",
    "merged_df.to_csv(\"data/training/5m_train_qlearning.csv\")\n"
   ]
  },
  {
   "cell_type": "code",
   "execution_count": null,
   "metadata": {},
   "outputs": [],
   "source": []
  }
 ],
 "metadata": {
  "kernelspec": {
   "display_name": "paguer",
   "language": "python",
   "name": "python3"
  },
  "language_info": {
   "codemirror_mode": {
    "name": "ipython",
    "version": 3
   },
   "file_extension": ".py",
   "mimetype": "text/x-python",
   "name": "python",
   "nbconvert_exporter": "python",
   "pygments_lexer": "ipython3",
   "version": "3.10.12"
  },
  "orig_nbformat": 4
 },
 "nbformat": 4,
 "nbformat_minor": 2
}
